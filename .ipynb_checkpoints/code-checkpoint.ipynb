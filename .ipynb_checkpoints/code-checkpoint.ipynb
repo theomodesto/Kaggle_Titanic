{
 "cells": [
  {
   "cell_type": "code",
   "execution_count": 1,
   "metadata": {},
   "outputs": [],
   "source": [
    "import pandas as pd\n",
    "from sklearn import tree\n",
    "from sklearn.preprocessing import LabelEncoder"
   ]
  },
  {
   "cell_type": "code",
   "execution_count": null,
   "metadata": {},
   "outputs": [],
   "source": [
    "#TREINAMENTO \n",
    "train = pd.read_csv('input//train.csv')\n",
    "base.info()\n",
    "#TESTE\n",
    "test = pd.read_csv('input//test.csv')\n",
    "test.info()\n",
    "#RESPOSTAS\n",
    "result = pd.read_csv('input//gender_submission.csv')\n",
    "resutado.head()"
   ]
  },
  {
   "cell_type": "code",
   "execution_count": null,
   "metadata": {},
   "outputs": [],
   "source": [
    "train = train.drop(['PassengerId','Name','SibSp','Parch','Ticket'],axis=1)\n",
    "train.Cabin = base.Cabin.fillna(\"\")\n",
    "train.Age = train.Age.fillna(0)\n",
    "train.Embarked = train.Embarked.fillna(\"\")\n",
    "train.Fare = train.Fare.fillna(0)\n"
   ]
  }
 ],
 "metadata": {
  "kernelspec": {
   "display_name": "Python 3",
   "language": "python",
   "name": "python3"
  },
  "language_info": {
   "codemirror_mode": {
    "name": "ipython",
    "version": 3
   },
   "file_extension": ".py",
   "mimetype": "text/x-python",
   "name": "python",
   "nbconvert_exporter": "python",
   "pygments_lexer": "ipython3",
   "version": "3.6.8"
  }
 },
 "nbformat": 4,
 "nbformat_minor": 2
}
