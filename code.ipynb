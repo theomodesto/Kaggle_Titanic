{
 "cells": [
  {
   "cell_type": "code",
   "execution_count": 16,
   "metadata": {},
   "outputs": [],
   "source": [
    "import pandas as pd"
   ]
  },
  {
   "cell_type": "code",
   "execution_count": 17,
   "metadata": {
    "scrolled": true
   },
   "outputs": [],
   "source": [
    "#TREINAMENTO \n",
    "train  = pd.read_csv('input//train.csv')\n",
    "#TESTE\n",
    "test   = pd.read_csv('input//test.csv')\n",
    "#RESPOSTAS\n",
    "result = pd.read_csv('input//gender_submission.csv')"
   ]
  },
  {
   "cell_type": "code",
   "execution_count": 18,
   "metadata": {},
   "outputs": [
    {
     "name": "stdout",
     "output_type": "stream",
     "text": [
      "<class 'pandas.core.frame.DataFrame'>\n",
      "RangeIndex: 891 entries, 0 to 890\n",
      "Data columns (total 12 columns):\n",
      "PassengerId    891 non-null int64\n",
      "Survived       891 non-null int64\n",
      "Pclass         891 non-null int64\n",
      "Name           891 non-null object\n",
      "Sex            891 non-null object\n",
      "Age            714 non-null float64\n",
      "SibSp          891 non-null int64\n",
      "Parch          891 non-null int64\n",
      "Ticket         891 non-null object\n",
      "Fare           891 non-null float64\n",
      "Cabin          204 non-null object\n",
      "Embarked       889 non-null object\n",
      "dtypes: float64(2), int64(5), object(5)\n",
      "memory usage: 83.6+ KB\n",
      "<class 'pandas.core.frame.DataFrame'>\n",
      "RangeIndex: 418 entries, 0 to 417\n",
      "Data columns (total 11 columns):\n",
      "PassengerId    418 non-null int64\n",
      "Pclass         418 non-null int64\n",
      "Name           418 non-null object\n",
      "Sex            418 non-null object\n",
      "Age            332 non-null float64\n",
      "SibSp          418 non-null int64\n",
      "Parch          418 non-null int64\n",
      "Ticket         418 non-null object\n",
      "Fare           417 non-null float64\n",
      "Cabin          91 non-null object\n",
      "Embarked       418 non-null object\n",
      "dtypes: float64(2), int64(4), object(5)\n",
      "memory usage: 36.0+ KB\n",
      "<class 'pandas.core.frame.DataFrame'>\n",
      "RangeIndex: 418 entries, 0 to 417\n",
      "Data columns (total 2 columns):\n",
      "PassengerId    418 non-null int64\n",
      "Survived       418 non-null int64\n",
      "dtypes: int64(2)\n",
      "memory usage: 6.6 KB\n"
     ]
    }
   ],
   "source": [
    "train.info()\n",
    "test.info()\n",
    "result.info()"
   ]
  },
  {
   "cell_type": "code",
   "execution_count": 19,
   "metadata": {},
   "outputs": [],
   "source": [
    "#limpa os dados\n",
    "#TREINAMENTO \n",
    "train  = train.drop(['PassengerId','Name'],axis=1)\n",
    "#TESTE\n",
    "test   = test.drop(['PassengerId','Name'],axis=1)\n",
    "#RESULTADOS\n",
    "#result = result.drop(['PassengerId'],axis=1)"
   ]
  },
  {
   "cell_type": "code",
   "execution_count": 20,
   "metadata": {},
   "outputs": [],
   "source": [
    "#TREINAMENTO\n",
    "train.Cabin    = train.Cabin.fillna(\"\")\n",
    "train.Age      = train.Age.fillna(0)\n",
    "train.Embarked = train.Embarked.fillna(\"\")\n",
    "train.Fare     = train.Fare.fillna(0)\n",
    "#TESTE\n",
    "test.Age       = test.Age.fillna(0)\n",
    "test.Embarked  = test.Embarked.fillna(\"\")\n",
    "test.Fare      = test.Fare.fillna(0)\n",
    "test.Cabin     = test.Cabin.fillna(\"\")"
   ]
  },
  {
   "cell_type": "code",
   "execution_count": 27,
   "metadata": {},
   "outputs": [],
   "source": [
    "from sklearn.preprocessing import LabelEncoder\n",
    "label_encoder  = LabelEncoder() \n",
    "#TREINAMENTO\n",
    "train.Sex      =  label_encoder.fit_transform(train.Sex)\n",
    "train.Ticket   =  label_encoder.fit_transform(train.Ticket)\n",
    "train.Cabin    =  label_encoder.fit_transform(train.Cabin)\n",
    "train.Embarked =  label_encoder.fit_transform(train.Embarked)\n",
    "#TESTE\n",
    "test.Sex       =  label_encoder.fit_transform(test.Sex)\n",
    "test.Ticket    =  label_encoder.fit_transform(test.Ticket)\n",
    "test.Cabin     =  label_encoder.fit_transform(test.Cabin)\n",
    "test.Embarked  =  label_encoder.fit_transform(test.Embarked)"
   ]
  },
  {
   "cell_type": "code",
   "execution_count": 28,
   "metadata": {},
   "outputs": [
    {
     "name": "stdout",
     "output_type": "stream",
     "text": [
      "<class 'pandas.core.frame.DataFrame'>\n",
      "RangeIndex: 891 entries, 0 to 890\n",
      "Data columns (total 10 columns):\n",
      "Survived    891 non-null int64\n",
      "Pclass      891 non-null int64\n",
      "Sex         891 non-null int64\n",
      "Age         891 non-null float64\n",
      "SibSp       891 non-null int64\n",
      "Parch       891 non-null int64\n",
      "Ticket      891 non-null int32\n",
      "Fare        891 non-null float64\n",
      "Cabin       891 non-null int64\n",
      "Embarked    891 non-null int64\n",
      "dtypes: float64(2), int32(1), int64(7)\n",
      "memory usage: 66.2 KB\n"
     ]
    }
   ],
   "source": [
    "train.info()"
   ]
  },
  {
   "cell_type": "code",
   "execution_count": 29,
   "metadata": {},
   "outputs": [],
   "source": [
    "#DADOS PARA TREINAMENTO DO AI\n",
    "colunas       = [\"Pclass\",\"Sex\",\"Age\",'SibSp','Parch','Ticket',\"Fare\",\"Embarked\",\"Cabin\"]\n",
    "X_treinamento = train[colunas].values\n",
    "y_treinamento = train.Survived.values"
   ]
  },
  {
   "cell_type": "code",
   "execution_count": 30,
   "metadata": {},
   "outputs": [],
   "source": [
    "#DADOS PARA TESTE A PRECISÃO DA AI\n",
    "X_test = test[colunas].values\n",
    "y_test = result.Survived.values"
   ]
  },
  {
   "cell_type": "code",
   "execution_count": 77,
   "metadata": {},
   "outputs": [
    {
     "data": {
      "text/plain": [
       "LinearDiscriminantAnalysis(n_components=None, priors=None, shrinkage=None,\n",
       "                           solver='svd', store_covariance=False, tol=0.0001)"
      ]
     },
     "execution_count": 77,
     "metadata": {},
     "output_type": "execute_result"
    }
   ],
   "source": [
    "#CLASSIFICADOR\n",
    "from sklearn.discriminant_analysis import LinearDiscriminantAnalysis\n",
    "classificador = LinearDiscriminantAnalysis()\n",
    "classificador.fit(X_treinamento,y_treinamento)\n",
    "#classificador.score(X_treinamento,y_treinamento)"
   ]
  },
  {
   "cell_type": "code",
   "execution_count": 78,
   "metadata": {},
   "outputs": [],
   "source": [
    "previsoes = classificador.predict(X_test)"
   ]
  },
  {
   "cell_type": "code",
   "execution_count": 79,
   "metadata": {},
   "outputs": [
    {
     "data": {
      "text/plain": [
       "0.9712918660287081"
      ]
     },
     "execution_count": 79,
     "metadata": {},
     "output_type": "execute_result"
    }
   ],
   "source": [
    "from sklearn.metrics import accuracy_score\n",
    "accuracy_ai = accuracy_score(y_test,previsoes)\n",
    "accuracy_ai"
   ]
  },
  {
   "cell_type": "code",
   "execution_count": 80,
   "metadata": {},
   "outputs": [
    {
     "data": {
      "text/plain": [
       "0.028708133971291867"
      ]
     },
     "execution_count": 80,
     "metadata": {},
     "output_type": "execute_result"
    }
   ],
   "source": [
    "'''Erro absoluto médio'''\n",
    "from sklearn.metrics import mean_absolute_error\n",
    "mae = mean_absolute_error(y_test,previsoes)\n",
    "mae"
   ]
  },
  {
   "cell_type": "code",
   "execution_count": 81,
   "metadata": {},
   "outputs": [
    {
     "data": {
      "text/plain": [
       "0.028708133971291867"
      ]
     },
     "execution_count": 81,
     "metadata": {},
     "output_type": "execute_result"
    }
   ],
   "source": [
    "'''Erro quadrático médio '''\n",
    "from sklearn.metrics import mean_squared_error\n",
    "mae = mean_squared_error(y_test,previsoes)\n",
    "mae"
   ]
  },
  {
   "cell_type": "code",
   "execution_count": 82,
   "metadata": {},
   "outputs": [],
   "source": [
    "import csv\n",
    "passengerId = result.PassengerId.values\n",
    "with open('output//resultados.csv', 'w') as csvfile:\n",
    "    csvfile.write('PassengerId,Survived\\n')\n",
    "    for i in range(len(passengerId)):\n",
    "        csvfile.write(str(passengerId[i])+','+str(previsoes[i]))\n",
    "        csvfile.write('\\n')"
   ]
  }
 ],
 "metadata": {
  "kernelspec": {
   "display_name": "Python 3",
   "language": "python",
   "name": "python3"
  },
  "language_info": {
   "codemirror_mode": {
    "name": "ipython",
    "version": 3
   },
   "file_extension": ".py",
   "mimetype": "text/x-python",
   "name": "python",
   "nbconvert_exporter": "python",
   "pygments_lexer": "ipython3",
   "version": "3.6.8"
  }
 },
 "nbformat": 4,
 "nbformat_minor": 2
}
